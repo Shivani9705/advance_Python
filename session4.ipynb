{
 "cells": [
  {
   "cell_type": "markdown",
   "id": "4ed2ad23",
   "metadata": {},
   "source": [
    "# *args, **kwargs"
   ]
  },
  {
   "cell_type": "code",
   "execution_count": 1,
   "id": "a8c4eb56",
   "metadata": {},
   "outputs": [],
   "source": [
    "# calculate area of rectangle "
   ]
  },
  {
   "cell_type": "code",
   "execution_count": 2,
   "id": "46ab05a3",
   "metadata": {},
   "outputs": [],
   "source": [
    "def area_of_rect(l,b):\n",
    "    aor=l*b \n",
    "    print(\"Area of rectangle=\",aor)"
   ]
  },
  {
   "cell_type": "code",
   "execution_count": 4,
   "id": "bf326561",
   "metadata": {},
   "outputs": [
    {
     "name": "stdout",
     "output_type": "stream",
     "text": [
      "Area of rectangle= 12\n"
     ]
    }
   ],
   "source": [
    "area_of_rect(3,4)"
   ]
  },
  {
   "cell_type": "code",
   "execution_count": 5,
   "id": "066932be",
   "metadata": {},
   "outputs": [
    {
     "name": "stdout",
     "output_type": "stream",
     "text": [
      "Area of rectangle= 300\n"
     ]
    }
   ],
   "source": [
    "area_of_rect(10,30)"
   ]
  },
  {
   "cell_type": "code",
   "execution_count": 6,
   "id": "ad9bf87d",
   "metadata": {},
   "outputs": [],
   "source": [
    "# *args"
   ]
  },
  {
   "cell_type": "code",
   "execution_count": 7,
   "id": "e7ad1945",
   "metadata": {},
   "outputs": [],
   "source": [
    "# sum of all values present in a parameter "
   ]
  },
  {
   "cell_type": "code",
   "execution_count": null,
   "id": "df20aa7b",
   "metadata": {},
   "outputs": [],
   "source": [
    "def cal_sum(*args): #(2,3,4)\n",
    "    sum=0\n",
    "    for i in args:\n",
    "        sum=sum+i # sum=0+2=2+3=5+4=9\n",
    "    return f\"sum of all values={sum}\""
   ]
  },
  {
   "cell_type": "code",
   "execution_count": 9,
   "id": "3481fb7e",
   "metadata": {},
   "outputs": [
    {
     "data": {
      "text/plain": [
       "'sum of all values=9'"
      ]
     },
     "execution_count": 9,
     "metadata": {},
     "output_type": "execute_result"
    }
   ],
   "source": [
    "cal_sum(2,3,4)"
   ]
  },
  {
   "cell_type": "code",
   "execution_count": 10,
   "id": "04603065",
   "metadata": {},
   "outputs": [
    {
     "data": {
      "text/plain": [
       "'sum of all values=135'"
      ]
     },
     "execution_count": 10,
     "metadata": {},
     "output_type": "execute_result"
    }
   ],
   "source": [
    "cal_sum(4,5,6,7,12,34,67)"
   ]
  },
  {
   "cell_type": "code",
   "execution_count": null,
   "id": "5cc262b2",
   "metadata": {},
   "outputs": [],
   "source": [
    "lst=[4,5,6,7,10,20,30,40,50]"
   ]
  },
  {
   "cell_type": "code",
   "execution_count": 13,
   "id": "7eb03ee4",
   "metadata": {},
   "outputs": [
    {
     "data": {
      "text/plain": [
       "'sum of all values=172'"
      ]
     },
     "execution_count": 13,
     "metadata": {},
     "output_type": "execute_result"
    }
   ],
   "source": [
    "# list unpacking \n",
    "cal_sum(*lst)"
   ]
  },
  {
   "cell_type": "code",
   "execution_count": 14,
   "id": "099e3f56",
   "metadata": {},
   "outputs": [],
   "source": [
    "# **kwargs"
   ]
  },
  {
   "cell_type": "code",
   "execution_count": 15,
   "id": "cd152ddb",
   "metadata": {},
   "outputs": [],
   "source": [
    "def display_data(**kwargs):  #{\"key\":\"values\"}\n",
    "    print(f\"values: {kwargs}\")\n"
   ]
  },
  {
   "cell_type": "code",
   "execution_count": 20,
   "id": "db745b1c",
   "metadata": {},
   "outputs": [
    {
     "name": "stdout",
     "output_type": "stream",
     "text": [
      "values: {'name': 'prashant', 'age': 21, 'salary': 20000}\n"
     ]
    }
   ],
   "source": [
    "display_data(name=\"prashant\",age=21,salary=20000)"
   ]
  },
  {
   "cell_type": "code",
   "execution_count": 27,
   "id": "d1ae51ae",
   "metadata": {},
   "outputs": [],
   "source": [
    "menu={\n",
    "    \"pizza\":250,\n",
    "    \"maggie\":50,\n",
    "    \"noodles\":199,\n",
    "    \"burger\":70,\n",
    "    \"coffee\":50,\n",
    "    \"tea\":20\n",
    "}"
   ]
  },
  {
   "cell_type": "code",
   "execution_count": 22,
   "id": "834ccaac",
   "metadata": {},
   "outputs": [
    {
     "data": {
      "text/plain": [
       "dict_keys(['pizza', 'maggie', 'noodles', 'burger'])"
      ]
     },
     "execution_count": 22,
     "metadata": {},
     "output_type": "execute_result"
    }
   ],
   "source": [
    "menu.keys()"
   ]
  },
  {
   "cell_type": "code",
   "execution_count": 23,
   "id": "1273db63",
   "metadata": {},
   "outputs": [
    {
     "data": {
      "text/plain": [
       "dict_values([250, 50, 199, 70])"
      ]
     },
     "execution_count": 23,
     "metadata": {},
     "output_type": "execute_result"
    }
   ],
   "source": [
    "menu.values()"
   ]
  },
  {
   "cell_type": "code",
   "execution_count": 24,
   "id": "990f0929",
   "metadata": {},
   "outputs": [
    {
     "data": {
      "text/plain": [
       "250"
      ]
     },
     "execution_count": 24,
     "metadata": {},
     "output_type": "execute_result"
    }
   ],
   "source": [
    "menu.get(\"pizza\")"
   ]
  },
  {
   "cell_type": "code",
   "execution_count": 25,
   "id": "3e7fc5c7",
   "metadata": {},
   "outputs": [
    {
     "data": {
      "text/plain": [
       "70"
      ]
     },
     "execution_count": 25,
     "metadata": {},
     "output_type": "execute_result"
    }
   ],
   "source": [
    "menu.get(\"burger\")"
   ]
  },
  {
   "cell_type": "markdown",
   "id": "8d81ac08",
   "metadata": {},
   "source": [
    "# perform billing for a restaurent "
   ]
  },
  {
   "cell_type": "code",
   "execution_count": 28,
   "id": "6b262811",
   "metadata": {},
   "outputs": [
    {
     "data": {
      "text/plain": [
       "{'pizza': 250,\n",
       " 'maggie': 50,\n",
       " 'noodles': 199,\n",
       " 'burger': 70,\n",
       " 'coffee': 50,\n",
       " 'tea': 20}"
      ]
     },
     "execution_count": 28,
     "metadata": {},
     "output_type": "execute_result"
    }
   ],
   "source": [
    "menu"
   ]
  },
  {
   "cell_type": "code",
   "execution_count": 31,
   "id": "47116e41",
   "metadata": {},
   "outputs": [],
   "source": [
    "def restaurent_billing(**kwargs):\n",
    "    bill=0\n",
    "    for food,qty in kwargs.items():\n",
    "        amt=menu.get(food)*qty\n",
    "        bill=bill+amt\n",
    "        print(f\"Food:{food},Quantity:{qty},amount:{amt}\")\n",
    "    return f\"Total bill={bill}\""
   ]
  },
  {
   "cell_type": "markdown",
   "id": "dcc1749f",
   "metadata": {},
   "source": []
  },
  {
   "cell_type": "code",
   "execution_count": 34,
   "id": "b491fe9a",
   "metadata": {},
   "outputs": [
    {
     "name": "stdout",
     "output_type": "stream",
     "text": [
      "Food:burger,Quantity:2,amount:140\n",
      "Food:coffee,Quantity:3,amount:150\n",
      "Food:tea,Quantity:3,amount:60\n"
     ]
    },
    {
     "data": {
      "text/plain": [
       "'Total bill=350'"
      ]
     },
     "execution_count": 34,
     "metadata": {},
     "output_type": "execute_result"
    }
   ],
   "source": [
    "restaurent_billing(burger=2,coffee=3,tea=3)"
   ]
  },
  {
   "cell_type": "markdown",
   "id": "37426e95",
   "metadata": {},
   "source": [
    "# generator function "
   ]
  },
  {
   "cell_type": "code",
   "execution_count": 36,
   "id": "fb7e73fe",
   "metadata": {},
   "outputs": [],
   "source": [
    "# 0,1,1,2,3,5,8,13,21"
   ]
  },
  {
   "cell_type": "markdown",
   "id": "779e25df",
   "metadata": {},
   "source": []
  },
  {
   "cell_type": "code",
   "execution_count": 37,
   "id": "11731539",
   "metadata": {},
   "outputs": [
    {
     "name": "stdout",
     "output_type": "stream",
     "text": [
      "1\n",
      "2\n",
      "3\n",
      "4\n",
      "5\n",
      "6\n",
      "7\n",
      "8\n",
      "9\n",
      "10\n"
     ]
    }
   ],
   "source": [
    "# while\n",
    "# 1)initialisation\n",
    "# 2)condition checking\n",
    "# 3)increment / decrement \n",
    "i=1\n",
    "while i<=10:\n",
    "    print(i)\n",
    "    i=i+1"
   ]
  },
  {
   "cell_type": "code",
   "execution_count": 39,
   "id": "5d561e5e",
   "metadata": {},
   "outputs": [],
   "source": [
    "i=1\n",
    "sum=0\n",
    "while i<=10:\n",
    "    sum=sum+i\n",
    "    i=i+1"
   ]
  },
  {
   "cell_type": "code",
   "execution_count": 41,
   "id": "dbaa1062",
   "metadata": {},
   "outputs": [
    {
     "data": {
      "text/plain": [
       "55"
      ]
     },
     "execution_count": 41,
     "metadata": {},
     "output_type": "execute_result"
    }
   ],
   "source": [
    "sum\n",
    "# print table of any number using while loop "
   ]
  },
  {
   "cell_type": "code",
   "execution_count": 42,
   "id": "45230438",
   "metadata": {},
   "outputs": [
    {
     "name": "stdout",
     "output_type": "stream",
     "text": [
      "4\n",
      "8\n",
      "12\n",
      "16\n",
      "20\n",
      "24\n",
      "28\n",
      "32\n",
      "36\n",
      "40\n"
     ]
    }
   ],
   "source": [
    "i=1\n",
    "n=int(input(\"Enter a number\"))\n",
    "while i<=10:\n",
    "    print(n*i)\n",
    "    i=i+1"
   ]
  },
  {
   "cell_type": "code",
   "execution_count": 43,
   "id": "af7708a8",
   "metadata": {},
   "outputs": [],
   "source": [
    "# 0,1,1,2,3,5,8,13,21"
   ]
  },
  {
   "cell_type": "code",
   "execution_count": 45,
   "id": "4ebc3c0a",
   "metadata": {},
   "outputs": [
    {
     "name": "stdout",
     "output_type": "stream",
     "text": [
      "0\n",
      "1\n",
      "1\n",
      "2\n",
      "3\n",
      "5\n",
      "8\n",
      "13\n"
     ]
    }
   ],
   "source": [
    "i=1\n",
    "a=0\n",
    "b=1\n",
    "c=0\n",
    "while i<=8:\n",
    "    print(c)\n",
    "    a=b\n",
    "    b=c\n",
    "    c=a+b\n",
    "    i=i+1\n",
    "# a=1\n",
    "# b=1\n",
    "# c=2\n",
    "# 0,1,1,"
   ]
  },
  {
   "cell_type": "code",
   "execution_count": 46,
   "id": "dc9e0393",
   "metadata": {},
   "outputs": [],
   "source": [
    "# generator \n",
    "# 1)yield\n",
    "# 2)next"
   ]
  },
  {
   "cell_type": "code",
   "execution_count": 54,
   "id": "950d7f59",
   "metadata": {},
   "outputs": [],
   "source": [
    "def fib_number():\n",
    "    a,b=0,1\n",
    "    while True:\n",
    "        yield a\n",
    "        a,b=b,a+b\n",
    "# a=0,b=1\n",
    "# a,b=1,2\n",
    "# 0,1,1"
   ]
  },
  {
   "cell_type": "code",
   "execution_count": 55,
   "id": "b1cdf854",
   "metadata": {},
   "outputs": [],
   "source": [
    "result=fib_number()"
   ]
  },
  {
   "cell_type": "code",
   "execution_count": 56,
   "id": "9885ff48",
   "metadata": {},
   "outputs": [
    {
     "name": "stdout",
     "output_type": "stream",
     "text": [
      "0\n",
      "1\n",
      "1\n",
      "2\n",
      "3\n"
     ]
    }
   ],
   "source": [
    "for i in range(5):\n",
    "    print(next(result))"
   ]
  },
  {
   "cell_type": "code",
   "execution_count": null,
   "id": "1ddf4c7c",
   "metadata": {},
   "outputs": [],
   "source": []
  }
 ],
 "metadata": {
  "kernelspec": {
   "display_name": "Python 3",
   "language": "python",
   "name": "python3"
  },
  "language_info": {
   "codemirror_mode": {
    "name": "ipython",
    "version": 3
   },
   "file_extension": ".py",
   "mimetype": "text/x-python",
   "name": "python",
   "nbconvert_exporter": "python",
   "pygments_lexer": "ipython3",
   "version": "3.13.9"
  }
 },
 "nbformat": 4,
 "nbformat_minor": 5
}
