{
 "cells": [
  {
   "cell_type": "markdown",
   "id": "8e51aa7d",
   "metadata": {},
   "source": [
    "# session2"
   ]
  },
  {
   "cell_type": "code",
   "execution_count": 1,
   "id": "1c9cf400",
   "metadata": {},
   "outputs": [
    {
     "name": "stdout",
     "output_type": "stream",
     "text": [
      "We are going to learn about function \n"
     ]
    }
   ],
   "source": [
    "print(\"We are going to learn about function \")"
   ]
  },
  {
   "cell_type": "code",
   "execution_count": 3,
   "id": "8ea9d7ec",
   "metadata": {},
   "outputs": [],
   "source": [
    "dict1={\n",
    "    \"Name\":\"Smith\",\n",
    "    \"age\":24,\n",
    "    \"salary\":50000\n",
    "}"
   ]
  },
  {
   "cell_type": "code",
   "execution_count": 4,
   "id": "3727d656",
   "metadata": {},
   "outputs": [
    {
     "data": {
      "text/plain": [
       "{'Name': 'Smith', 'age': 24, 'salary': 50000}"
      ]
     },
     "execution_count": 4,
     "metadata": {},
     "output_type": "execute_result"
    }
   ],
   "source": [
    "dict1"
   ]
  },
  {
   "cell_type": "code",
   "execution_count": null,
   "id": "8a7ead07",
   "metadata": {},
   "outputs": [],
   "source": []
  }
 ],
 "metadata": {
  "kernelspec": {
   "display_name": "Python 3",
   "language": "python",
   "name": "python3"
  },
  "language_info": {
   "codemirror_mode": {
    "name": "ipython",
    "version": 3
   },
   "file_extension": ".py",
   "mimetype": "text/x-python",
   "name": "python",
   "nbconvert_exporter": "python",
   "pygments_lexer": "ipython3",
   "version": "3.13.7"
  }
 },
 "nbformat": 4,
 "nbformat_minor": 5
}
