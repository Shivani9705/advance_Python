{
 "cells": [
  {
   "cell_type": "markdown",
   "id": "9828028d",
   "metadata": {},
   "source": [
    "# OOps(Object oriented programming system)"
   ]
  },
  {
   "cell_type": "code",
   "execution_count": 1,
   "id": "094e58ed",
   "metadata": {},
   "outputs": [],
   "source": [
    "# oops=it is a technique to build real worl apllication using classes and object"
   ]
  },
  {
   "cell_type": "code",
   "execution_count": 2,
   "id": "d2d25104",
   "metadata": {},
   "outputs": [],
   "source": [
    "# class = it is blueprint of an object / collection of object "
   ]
  },
  {
   "cell_type": "code",
   "execution_count": 3,
   "id": "85c33e73",
   "metadata": {},
   "outputs": [],
   "source": [
    "# object=it is instance(Example) of a class "
   ]
  },
  {
   "cell_type": "markdown",
   "id": "e3c82e3f",
   "metadata": {},
   "source": [
    "# Define a class"
   ]
  },
  {
   "cell_type": "code",
   "execution_count": 4,
   "id": "7da00cbc",
   "metadata": {},
   "outputs": [],
   "source": [
    "class Person:\n",
    "    def properties(self,name,age,salary):\n",
    "        self.name=name\n",
    "        self.age=age\n",
    "        self.salary=salary \n",
    "    def display_data(self):\n",
    "        print(f\"Name={self.name}\\nAge:{self.age}\\nSalary:{self.salary}\")"
   ]
  },
  {
   "cell_type": "markdown",
   "id": "1c2103ec",
   "metadata": {},
   "source": [
    "# Create an Object"
   ]
  },
  {
   "cell_type": "code",
   "execution_count": 10,
   "id": "4eb25062",
   "metadata": {},
   "outputs": [],
   "source": [
    "person1=Person()"
   ]
  },
  {
   "cell_type": "code",
   "execution_count": 12,
   "id": "c877eae8",
   "metadata": {},
   "outputs": [],
   "source": [
    "person1.properties(\"John\",23,30000)"
   ]
  },
  {
   "cell_type": "code",
   "execution_count": 13,
   "id": "bd1a9df4",
   "metadata": {},
   "outputs": [
    {
     "name": "stdout",
     "output_type": "stream",
     "text": [
      "Name=John\n",
      "Age:23\n",
      "Salary:30000\n"
     ]
    }
   ],
   "source": [
    "person1.display_data()"
   ]
  },
  {
   "cell_type": "code",
   "execution_count": 14,
   "id": "21707f8b",
   "metadata": {},
   "outputs": [],
   "source": [
    "person2=Person()"
   ]
  },
  {
   "cell_type": "code",
   "execution_count": 15,
   "id": "f9b55956",
   "metadata": {},
   "outputs": [],
   "source": [
    "person2.properties(\"Smith\",25,40000)"
   ]
  },
  {
   "cell_type": "code",
   "execution_count": 16,
   "id": "4513adbf",
   "metadata": {},
   "outputs": [
    {
     "name": "stdout",
     "output_type": "stream",
     "text": [
      "Name=Smith\n",
      "Age:25\n",
      "Salary:40000\n"
     ]
    }
   ],
   "source": [
    "person2.display_data()"
   ]
  },
  {
   "cell_type": "markdown",
   "id": "a113e3f7",
   "metadata": {},
   "source": [
    "# create a class"
   ]
  },
  {
   "cell_type": "code",
   "execution_count": 17,
   "id": "b158020b",
   "metadata": {},
   "outputs": [],
   "source": [
    "class Customer:\n",
    "    def data(self,name,email,product_ID):\n",
    "        self.name =name\n",
    "        self.email =email\n",
    "        self.product_ID =product_ID\n",
    "    def show_data(self):\n",
    "        print(f\"Customer Name:{self.name}\\nEmail:{self.email}\\nProduct ID={self.product_ID}\")"
   ]
  },
  {
   "cell_type": "markdown",
   "id": "058e504a",
   "metadata": {},
   "source": [
    "# create an object "
   ]
  },
  {
   "cell_type": "code",
   "execution_count": 18,
   "id": "1150ef64",
   "metadata": {},
   "outputs": [],
   "source": [
    "c1=Customer()"
   ]
  },
  {
   "cell_type": "code",
   "execution_count": 19,
   "id": "4015aa23",
   "metadata": {},
   "outputs": [],
   "source": [
    "c1.data(\"Smith\",\"s@gmail.com\",\"001AAD\")"
   ]
  },
  {
   "cell_type": "code",
   "execution_count": 20,
   "id": "abb47400",
   "metadata": {},
   "outputs": [
    {
     "name": "stdout",
     "output_type": "stream",
     "text": [
      "Customer Name:Smith\n",
      "Email:s@gmail.com\n",
      "Product ID=001AAD\n"
     ]
    }
   ],
   "source": [
    "c1.show_data()"
   ]
  },
  {
   "cell_type": "code",
   "execution_count": 21,
   "id": "7e627ca4",
   "metadata": {},
   "outputs": [
    {
     "name": "stdout",
     "output_type": "stream",
     "text": [
      "Customer Name:Alice\n",
      "Email:a@gmail.com\n",
      "Product ID=002AAF\n"
     ]
    }
   ],
   "source": [
    "c2=Customer()\n",
    "c2.data(\"Alice\",'a@gmail.com',\"002AAF\")\n",
    "c2.show_data()"
   ]
  },
  {
   "cell_type": "markdown",
   "id": "c32dd489",
   "metadata": {},
   "source": [
    "# constructor\n",
    "- is a function which is automatically called when object is created"
   ]
  },
  {
   "cell_type": "code",
   "execution_count": 22,
   "id": "194ef444",
   "metadata": {},
   "outputs": [],
   "source": [
    "class Greet:\n",
    "    def __init__(self):\n",
    "        print(\"Welcome to ETLHIVE\")"
   ]
  },
  {
   "cell_type": "code",
   "execution_count": 23,
   "id": "39008a2b",
   "metadata": {},
   "outputs": [
    {
     "name": "stdout",
     "output_type": "stream",
     "text": [
      "Welcome to ETLHIVE\n"
     ]
    }
   ],
   "source": [
    "g1=Greet()"
   ]
  },
  {
   "cell_type": "code",
   "execution_count": 24,
   "id": "91f51c5e",
   "metadata": {},
   "outputs": [],
   "source": [
    "class Car:\n",
    "    def __init__(self,brand,price,color):\n",
    "        self.brand=brand\n",
    "        self.price=price\n",
    "        self.color=color\n",
    "    def display(self):\n",
    "        print(f\"Brand={self.brand}\\nPrice={self.price}\\nColor={self.color}\")"
   ]
  },
  {
   "cell_type": "code",
   "execution_count": 25,
   "id": "cabaf966",
   "metadata": {},
   "outputs": [],
   "source": [
    "c1=Car(\"Audi\",\"2cr\",\"White\")"
   ]
  },
  {
   "cell_type": "code",
   "execution_count": 26,
   "id": "a39ffc1d",
   "metadata": {},
   "outputs": [
    {
     "name": "stdout",
     "output_type": "stream",
     "text": [
      "Brand=Audi\n",
      "Price=2cr\n",
      "Color=White\n"
     ]
    }
   ],
   "source": [
    "c1.display()"
   ]
  },
  {
   "cell_type": "code",
   "execution_count": 29,
   "id": "296722ae",
   "metadata": {},
   "outputs": [
    {
     "name": "stdout",
     "output_type": "stream",
     "text": [
      "Brand=bmw\n",
      "Price=3cr\n",
      "Color=red\n"
     ]
    }
   ],
   "source": [
    "c2=Car(\"bmw\",\"3cr\",\"red\")\n",
    "c2.display()"
   ]
  },
  {
   "cell_type": "markdown",
   "id": "a4a469de",
   "metadata": {},
   "source": [
    "# Bank Account Example"
   ]
  },
  {
   "cell_type": "code",
   "execution_count": 30,
   "id": "2ba8ee33",
   "metadata": {},
   "outputs": [],
   "source": [
    "class Bank:\n",
    "    def __init__(self,Account_holder_name,Account_no,balance):\n",
    "        self.Account_holder_name=Account_holder_name\n",
    "        self.Account_no=Account_no\n",
    "        self.balance=balance\n",
    "    def display(self):\n",
    "        print(f\"Account_holder_name={self.Account_holder_name}\\nAccount_no={self.Account_no}\\nbalance={self.balance}\")\n",
    "    def deposit(self,deposit_money):\n",
    "        self.deposit_money=deposit_money\n",
    "        self.balance=self.balance+self.deposit_money\n",
    "        print(f\"The final amount after deposit of {self.deposit_money} is {self.balance}\")\n",
    "    def withdraw(self,withdraw_money):\n",
    "        self.withdraw_money=withdraw_money\n",
    "        if self.withdraw_money<=self.balance:\n",
    "            self.balance=self.balance-self.withdraw_money\n",
    "            print(f\"The final amount after withdraw of {self.withdraw_money} rs is {self.balance}\")\n",
    "        else:\n",
    "            print(\"insufficient money in your bank account\")\n",
    "        "
   ]
  },
  {
   "cell_type": "code",
   "execution_count": 31,
   "id": "5ce364d8",
   "metadata": {},
   "outputs": [],
   "source": [
    "p1=Bank(\"Mahesh\",'34567876543',5000)"
   ]
  },
  {
   "cell_type": "code",
   "execution_count": 32,
   "id": "de4e5046",
   "metadata": {},
   "outputs": [
    {
     "name": "stdout",
     "output_type": "stream",
     "text": [
      "Account_holder_name=Mahesh\n",
      "Account_no=34567876543\n",
      "balance=5000\n"
     ]
    }
   ],
   "source": [
    "p1.display()"
   ]
  },
  {
   "cell_type": "code",
   "execution_count": 33,
   "id": "c4b6343a",
   "metadata": {},
   "outputs": [
    {
     "name": "stdout",
     "output_type": "stream",
     "text": [
      "The final amount after deposit of 2000 is 7000\n"
     ]
    }
   ],
   "source": [
    "p1.deposit(2000)"
   ]
  },
  {
   "cell_type": "code",
   "execution_count": 35,
   "id": "7d5643df",
   "metadata": {},
   "outputs": [
    {
     "name": "stdout",
     "output_type": "stream",
     "text": [
      "The final amount after withdraw of 4000 rs is 3000\n"
     ]
    }
   ],
   "source": [
    "p1.withdraw(4000)"
   ]
  },
  {
   "cell_type": "code",
   "execution_count": null,
   "id": "62be104c",
   "metadata": {},
   "outputs": [],
   "source": []
  }
 ],
 "metadata": {
  "kernelspec": {
   "display_name": "Python 3",
   "language": "python",
   "name": "python3"
  },
  "language_info": {
   "codemirror_mode": {
    "name": "ipython",
    "version": 3
   },
   "file_extension": ".py",
   "mimetype": "text/x-python",
   "name": "python",
   "nbconvert_exporter": "python",
   "pygments_lexer": "ipython3",
   "version": "3.13.9"
  }
 },
 "nbformat": 4,
 "nbformat_minor": 5
}
