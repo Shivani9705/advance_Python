{
 "cells": [
  {
   "cell_type": "markdown",
   "id": "2a38dbb9",
   "metadata": {},
   "source": [
    "# Inheritance\n",
    "- Accessi ng property and functions from parent class to a child class or from one class to another class is called as inheritance."
   ]
  },
  {
   "cell_type": "markdown",
   "id": "da24d9a7",
   "metadata": {},
   "source": [
    "# Single Inheritance"
   ]
  },
  {
   "cell_type": "code",
   "execution_count": 1,
   "id": "8463e3a4",
   "metadata": {},
   "outputs": [],
   "source": [
    "# Parent class \n",
    "class Customer:\n",
    "    def __init__(self,name,age,prod_id):\n",
    "        self.name=name\n",
    "        self.age=age \n",
    "        self.prod_id=prod_id\n",
    "    def display(self):\n",
    "        print(f\"Name={self.name}\\nAge={self.age}\\nProduct ID={self.prod_id}\")\n"
   ]
  },
  {
   "cell_type": "code",
   "execution_count": 2,
   "id": "2b752908",
   "metadata": {},
   "outputs": [],
   "source": [
    "# child class \n",
    "class Product(Customer):\n",
    "    def __init__(self,name,age,prod_id,product_name,Price):\n",
    "        super().__init__(name,age,prod_id)\n",
    "        self.product_name=product_name\n",
    "        self.Price=Price\n",
    "    def show(self):\n",
    "        super().display()\n",
    "        print(f\"Product_name={self.product_name}\\nProduct Price={self.Price}\")\n"
   ]
  },
  {
   "cell_type": "code",
   "execution_count": 4,
   "id": "66a5bd31",
   "metadata": {},
   "outputs": [],
   "source": [
    "# create an object \n",
    "p1=Product(\"Smith\",24,\"0015DE\",\"Keyboard\",\"800rs\")"
   ]
  },
  {
   "cell_type": "code",
   "execution_count": 5,
   "id": "2a770600",
   "metadata": {},
   "outputs": [
    {
     "name": "stdout",
     "output_type": "stream",
     "text": [
      "Name=Smith\n",
      "Age=24\n",
      "Product ID=0015DE\n",
      "Product_name=Keyboard\n",
      "Product Price=800rs\n"
     ]
    }
   ],
   "source": [
    "p1.show()"
   ]
  },
  {
   "cell_type": "markdown",
   "id": "c6935bc9",
   "metadata": {},
   "source": [
    "# multilevel inheritance"
   ]
  },
  {
   "cell_type": "code",
   "execution_count": 14,
   "id": "09d01533",
   "metadata": {},
   "outputs": [],
   "source": [
    "class Person:\n",
    "    def __init__(self,name,age):\n",
    "        self.name=name\n",
    "        self.age=age\n",
    "    def info(self):\n",
    "        print(f\"Name={self.name}\\nAge={self.age}\")"
   ]
  },
  {
   "cell_type": "code",
   "execution_count": 15,
   "id": "27d0ebaf",
   "metadata": {},
   "outputs": [],
   "source": [
    "class Teacher(Person):\n",
    "    def __init__(self,name,age,subject):\n",
    "        super().__init__(name,age)\n",
    "        self.subject=subject \n",
    "    def information(self):\n",
    "        super().info()\n",
    "        print(f\"Subject={self.subject}\")"
   ]
  },
  {
   "cell_type": "code",
   "execution_count": 19,
   "id": "ea133f2a",
   "metadata": {},
   "outputs": [],
   "source": [
    "class departmentHead(Teacher):\n",
    "    def __init__(self,name,age,subject,department):\n",
    "        super().__init__(name,age,subject)\n",
    "        self.department=department\n",
    "    def display(self):\n",
    "        super().information()\n",
    "        print(f\"Depatment={self.department}\")"
   ]
  },
  {
   "cell_type": "code",
   "execution_count": 20,
   "id": "7ed4aae9",
   "metadata": {},
   "outputs": [],
   "source": [
    "t1=departmentHead(\"Vishal Sir\",28,'Maths','Mechanical')"
   ]
  },
  {
   "cell_type": "code",
   "execution_count": 21,
   "id": "85d2ad6b",
   "metadata": {},
   "outputs": [
    {
     "name": "stdout",
     "output_type": "stream",
     "text": [
      "Name=Vishal Sir\n",
      "Age=28\n",
      "Subject=Maths\n",
      "Depatment=Mechanical\n"
     ]
    }
   ],
   "source": [
    "t1.display()"
   ]
  },
  {
   "cell_type": "markdown",
   "id": "139c1455",
   "metadata": {},
   "source": [
    "# Hierarchical Inheritance"
   ]
  },
  {
   "cell_type": "code",
   "execution_count": 22,
   "id": "5c0f851e",
   "metadata": {},
   "outputs": [],
   "source": [
    "        #     A \n",
    "        # B       C"
   ]
  },
  {
   "cell_type": "code",
   "execution_count": 23,
   "id": "752cbc84",
   "metadata": {},
   "outputs": [],
   "source": [
    "class Parent:\n",
    "    def __init__(self,name,plot):\n",
    "        self.name=name\n",
    "        self.plot=plot  \n"
   ]
  },
  {
   "cell_type": "code",
   "execution_count": 27,
   "id": "eea281e8",
   "metadata": {},
   "outputs": [],
   "source": [
    "class child1(Parent):\n",
    "    def __init__(self,name,plot,childname):\n",
    "        super().__init__(name,plot)\n",
    "        self.childname=childname\n",
    "    def display(self):\n",
    "        print(f\"ChildName={self.childname} {self.name}\\nPlot={self.plot}\")"
   ]
  },
  {
   "cell_type": "code",
   "execution_count": 28,
   "id": "d784de85",
   "metadata": {},
   "outputs": [],
   "source": [
    "c1=child1(\"Mahesh Mishra\",\"15*20\",\"Vishal\")"
   ]
  },
  {
   "cell_type": "code",
   "execution_count": 29,
   "id": "d55c902b",
   "metadata": {},
   "outputs": [
    {
     "name": "stdout",
     "output_type": "stream",
     "text": [
      "ChildName=Vishal Mahesh Mishra\n",
      "Plot=15*20\n"
     ]
    }
   ],
   "source": [
    "c1.display()"
   ]
  },
  {
   "cell_type": "code",
   "execution_count": 30,
   "id": "a2f4311b",
   "metadata": {},
   "outputs": [],
   "source": [
    "class child2(Parent):\n",
    "    def __init__(self,name,plot,childname):\n",
    "        super().__init__(name,plot)\n",
    "        self.childname=childname\n",
    "    def display(self):\n",
    "        print(f\"ChildName={self.childname} {self.name}\\nPlot={self.plot}\")"
   ]
  },
  {
   "cell_type": "code",
   "execution_count": 31,
   "id": "29b817d8",
   "metadata": {},
   "outputs": [],
   "source": [
    "c2=child2(\"Anita pandey\",\"20*30\",\"Ayush\")"
   ]
  },
  {
   "cell_type": "code",
   "execution_count": 32,
   "id": "671c45c8",
   "metadata": {},
   "outputs": [
    {
     "name": "stdout",
     "output_type": "stream",
     "text": [
      "ChildName=Ayush Anita pandey\n",
      "Plot=20*30\n"
     ]
    }
   ],
   "source": [
    "c2.display()"
   ]
  },
  {
   "cell_type": "code",
   "execution_count": null,
   "id": "e88cc6e5",
   "metadata": {},
   "outputs": [],
   "source": []
  }
 ],
 "metadata": {
  "kernelspec": {
   "display_name": "Python 3",
   "language": "python",
   "name": "python3"
  },
  "language_info": {
   "codemirror_mode": {
    "name": "ipython",
    "version": 3
   },
   "file_extension": ".py",
   "mimetype": "text/x-python",
   "name": "python",
   "nbconvert_exporter": "python",
   "pygments_lexer": "ipython3",
   "version": "3.13.7"
  }
 },
 "nbformat": 4,
 "nbformat_minor": 5
}
