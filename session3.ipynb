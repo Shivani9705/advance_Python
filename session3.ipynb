{
 "cells": [
  {
   "cell_type": "markdown",
   "id": "8a4234cb",
   "metadata": {},
   "source": [
    "# session3"
   ]
  },
  {
   "cell_type": "code",
   "execution_count": 2,
   "id": "72c80e85",
   "metadata": {},
   "outputs": [],
   "source": [
    "s1={1,2,2,22,33,3,4,4,4,4,5,5,5,6,6,6,7,7,7,8,88}"
   ]
  },
  {
   "cell_type": "code",
   "execution_count": 3,
   "id": "7817075b",
   "metadata": {},
   "outputs": [
    {
     "data": {
      "text/plain": [
       "{1, 2, 3, 4, 5, 6, 7, 8, 22, 33, 88}"
      ]
     },
     "execution_count": 3,
     "metadata": {},
     "output_type": "execute_result"
    }
   ],
   "source": [
    "s1"
   ]
  },
  {
   "cell_type": "code",
   "execution_count": null,
   "id": "10cb55cd",
   "metadata": {},
   "outputs": [],
   "source": []
  }
 ],
 "metadata": {
  "kernelspec": {
   "display_name": "Python 3",
   "language": "python",
   "name": "python3"
  },
  "language_info": {
   "codemirror_mode": {
    "name": "ipython",
    "version": 3
   },
   "file_extension": ".py",
   "mimetype": "text/x-python",
   "name": "python",
   "nbconvert_exporter": "python",
   "pygments_lexer": "ipython3",
   "version": "3.13.7"
  }
 },
 "nbformat": 4,
 "nbformat_minor": 5
}
