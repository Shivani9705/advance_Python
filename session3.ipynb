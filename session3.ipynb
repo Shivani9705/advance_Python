{
 "cells": [
  {
   "cell_type": "markdown",
   "id": "fdd28fea",
   "metadata": {},
   "source": [
    "# calculate interest\n",
    "# interest=(p*r*t)/100"
   ]
  },
  {
   "cell_type": "code",
   "execution_count": 8,
   "id": "e02e3b0e",
   "metadata": {},
   "outputs": [],
   "source": [
    "# defining a function \n",
    "\n",
    "def cal_interest(p,r,t): #arguments\n",
    "    interest=(p*r*t)/100\n",
    "    print(\"Interest=\",interest)"
   ]
  },
  {
   "cell_type": "code",
   "execution_count": 9,
   "id": "db659dad",
   "metadata": {},
   "outputs": [
    {
     "name": "stdout",
     "output_type": "stream",
     "text": [
      "Interest= 25000.0\n"
     ]
    }
   ],
   "source": [
    "# calling a function \n",
    "cal_interest(100000,5,5) # parameter"
   ]
  },
  {
   "cell_type": "code",
   "execution_count": 3,
   "id": "11054b8a",
   "metadata": {},
   "outputs": [
    {
     "name": "stdout",
     "output_type": "stream",
     "text": [
      "Interest= 1000.0\n"
     ]
    }
   ],
   "source": [
    "cal_interest(50000,2,1)"
   ]
  },
  {
   "cell_type": "code",
   "execution_count": 4,
   "id": "694ced5d",
   "metadata": {},
   "outputs": [],
   "source": [
    "# create a function for printing table of any number"
   ]
  },
  {
   "cell_type": "code",
   "execution_count": null,
   "id": "397bf8ae",
   "metadata": {},
   "outputs": [],
   "source": [
    "# *args=This will act like a tuple inside a function \n",
    "# used for accepting multiple parameter in one argument "
   ]
  },
  {
   "cell_type": "code",
   "execution_count": 10,
   "id": "193e282e",
   "metadata": {},
   "outputs": [],
   "source": [
    "def information(*args):\n",
    "    print(f\"Values:{args}\")\n",
    "    print(f\"type:{type(args)}\")\n",
    "    for i in args:\n",
    "        print(i)"
   ]
  },
  {
   "cell_type": "code",
   "execution_count": 11,
   "id": "40b9bb3a",
   "metadata": {},
   "outputs": [
    {
     "name": "stdout",
     "output_type": "stream",
     "text": [
      "Values:(1, 'shiavni', 'trainer', 34566)\n",
      "type:<class 'tuple'>\n",
      "1\n",
      "shiavni\n",
      "trainer\n",
      "34566\n"
     ]
    }
   ],
   "source": [
    "information(1,'shiavni','trainer',34566)"
   ]
  },
  {
   "cell_type": "code",
   "execution_count": 13,
   "id": "1dc47183",
   "metadata": {},
   "outputs": [],
   "source": [
    "# return multiplication of a number \n",
    "# 2,4,6,3=144"
   ]
  },
  {
   "cell_type": "code",
   "execution_count": 14,
   "id": "574cb1d8",
   "metadata": {},
   "outputs": [],
   "source": [
    "def return_multiplication(*args):\n",
    "    m=1\n",
    "    for i in args:\n",
    "        m=m*i\n",
    "    return m"
   ]
  },
  {
   "cell_type": "code",
   "execution_count": 19,
   "id": "1fd553eb",
   "metadata": {},
   "outputs": [],
   "source": [
    "# return_multiplication(4,5)\n",
    "lst=[2,4,5,6,7,8,9]"
   ]
  },
  {
   "cell_type": "code",
   "execution_count": 21,
   "id": "a4ff5dd1",
   "metadata": {},
   "outputs": [
    {
     "data": {
      "text/plain": [
       "120960"
      ]
     },
     "execution_count": 21,
     "metadata": {},
     "output_type": "execute_result"
    }
   ],
   "source": [
    "return_multiplication(*lst)"
   ]
  },
  {
   "cell_type": "code",
   "execution_count": 16,
   "id": "a2ae2944",
   "metadata": {},
   "outputs": [
    {
     "data": {
      "text/plain": [
       "24"
      ]
     },
     "execution_count": 16,
     "metadata": {},
     "output_type": "execute_result"
    }
   ],
   "source": [
    "return_multiplication(1,2,3,4)"
   ]
  },
  {
   "cell_type": "code",
   "execution_count": 17,
   "id": "b2a765a6",
   "metadata": {},
   "outputs": [
    {
     "data": {
      "text/plain": [
       "389614579200"
      ]
     },
     "execution_count": 17,
     "metadata": {},
     "output_type": "execute_result"
    }
   ],
   "source": [
    "return_multiplication(3,4,5,6,7,8,11,22,33,44,55)"
   ]
  },
  {
   "cell_type": "code",
   "execution_count": 22,
   "id": "379f3cf0",
   "metadata": {},
   "outputs": [],
   "source": [
    "cart=[\n",
    "    ('laptop',35000,1),\n",
    "    ('keyboard',6000,2),\n",
    "    ('mouse',200,5),\n",
    "    ('mouse pad',100,10)\n",
    "]"
   ]
  },
  {
   "cell_type": "code",
   "execution_count": 25,
   "id": "f9d18971",
   "metadata": {},
   "outputs": [],
   "source": [
    "def print_info(*args):\n",
    "    total_price=0\n",
    "    # print information\n",
    "    for name,price,qty in args:\n",
    "        print(f\"Name:{name},price:{price},Quantity:{qty}\")\n",
    "        print(\"-----------------------------------------------\")\n",
    "        total_price=total_price+price\n",
    "    return f\"Total Price={total_price}\""
   ]
  },
  {
   "cell_type": "code",
   "execution_count": 26,
   "id": "e58ce7fa",
   "metadata": {},
   "outputs": [
    {
     "name": "stdout",
     "output_type": "stream",
     "text": [
      "Name:laptop,price:35000,Quantity:1\n",
      "-----------------------------------------------\n",
      "Name:keyboard,price:6000,Quantity:2\n",
      "-----------------------------------------------\n",
      "Name:mouse,price:200,Quantity:5\n",
      "-----------------------------------------------\n",
      "Name:mouse pad,price:100,Quantity:10\n",
      "-----------------------------------------------\n"
     ]
    },
    {
     "data": {
      "text/plain": [
       "'Total Price=41300'"
      ]
     },
     "execution_count": 26,
     "metadata": {},
     "output_type": "execute_result"
    }
   ],
   "source": [
    "print_info(*cart)"
   ]
  },
  {
   "cell_type": "code",
   "execution_count": 27,
   "id": "9e44a4a1",
   "metadata": {},
   "outputs": [],
   "source": [
    "cart=[\n",
    "    ('Smith',21,30000),\n",
    "    ('alice',24,35000),\n",
    "    ('gayatri',26,40000)\n",
    "]"
   ]
  },
  {
   "cell_type": "code",
   "execution_count": 28,
   "id": "d5047598",
   "metadata": {},
   "outputs": [],
   "source": [
    "def emp_info(*args):\n",
    "    sal=0\n",
    "    for name,age,salary in args:\n",
    "        print(f\"Name:{name},age:{age},salary:{salary}\")\n",
    "        sal=sal+salary\n",
    "    return f\"Final salary={sal}\""
   ]
  },
  {
   "cell_type": "code",
   "execution_count": 29,
   "id": "2ff063df",
   "metadata": {},
   "outputs": [
    {
     "name": "stdout",
     "output_type": "stream",
     "text": [
      "Name:Smith,age:21,salary:30000\n",
      "Name:alice,age:24,salary:35000\n",
      "Name:gayatri,age:26,salary:40000\n"
     ]
    },
    {
     "data": {
      "text/plain": [
       "'Final salary=105000'"
      ]
     },
     "execution_count": 29,
     "metadata": {},
     "output_type": "execute_result"
    }
   ],
   "source": [
    "emp_info(*cart)"
   ]
  },
  {
   "cell_type": "code",
   "execution_count": 55,
   "id": "4a526102",
   "metadata": {},
   "outputs": [],
   "source": [
    "# *args=act as a tuple\n",
    "# **kwargs=act as a dictionary"
   ]
  },
  {
   "cell_type": "code",
   "execution_count": 53,
   "id": "0a50550d",
   "metadata": {},
   "outputs": [],
   "source": [
    "def display(**kwargs):\n",
    "    print(f\"values:{kwargs}\")\n",
    "    for key,value in kwargs.items():\n",
    "        print(f\"Key={key}\\nvalue={value}\")"
   ]
  },
  {
   "cell_type": "code",
   "execution_count": 56,
   "id": "237c9472",
   "metadata": {},
   "outputs": [
    {
     "name": "stdout",
     "output_type": "stream",
     "text": [
      "values:{'name': 'shivani', 'job_role': 'trainer'}\n",
      "Key=name\n",
      "value=shivani\n",
      "Key=job_role\n",
      "value=trainer\n"
     ]
    }
   ],
   "source": [
    "display(name=\"shivani\",job_role=\"trainer\")"
   ]
  },
  {
   "cell_type": "code",
   "execution_count": 57,
   "id": "8ff9eb7e",
   "metadata": {},
   "outputs": [],
   "source": [
    "d={\n",
    "   \"empid\":101,\n",
    "   \"empname\":\"soham\",\n",
    "   \"age\":24,\n",
    "   \"email\":\"abc@gmail.com\" \n",
    "}"
   ]
  },
  {
   "cell_type": "code",
   "execution_count": 60,
   "id": "677054bc",
   "metadata": {},
   "outputs": [
    {
     "name": "stdout",
     "output_type": "stream",
     "text": [
      "values:{'empid': 101, 'empname': 'soham', 'age': 24, 'email': 'abc@gmail.com'}\n",
      "Key=empid\n",
      "value=101\n",
      "Key=empname\n",
      "value=soham\n",
      "Key=age\n",
      "value=24\n",
      "Key=email\n",
      "value=abc@gmail.com\n"
     ]
    }
   ],
   "source": [
    "display(**d)"
   ]
  },
  {
   "cell_type": "code",
   "execution_count": 61,
   "id": "48fa67de",
   "metadata": {},
   "outputs": [],
   "source": [
    "# lambda fuction =used for small calculation "
   ]
  },
  {
   "cell_type": "code",
   "execution_count": 73,
   "id": "2b61020f",
   "metadata": {},
   "outputs": [],
   "source": [
    "add=lambda a,b:a+b"
   ]
  },
  {
   "cell_type": "code",
   "execution_count": 63,
   "id": "f317da06",
   "metadata": {},
   "outputs": [
    {
     "data": {
      "text/plain": [
       "11"
      ]
     },
     "execution_count": 63,
     "metadata": {},
     "output_type": "execute_result"
    }
   ],
   "source": [
    "add(5,6)"
   ]
  },
  {
   "cell_type": "code",
   "execution_count": 64,
   "id": "c4cf3936",
   "metadata": {},
   "outputs": [
    {
     "data": {
      "text/plain": [
       "33"
      ]
     },
     "execution_count": 64,
     "metadata": {},
     "output_type": "execute_result"
    }
   ],
   "source": [
    "add(11,22)"
   ]
  },
  {
   "cell_type": "code",
   "execution_count": 65,
   "id": "976d65f9",
   "metadata": {},
   "outputs": [
    {
     "data": {
      "text/plain": [
       "170"
      ]
     },
     "execution_count": 65,
     "metadata": {},
     "output_type": "execute_result"
    }
   ],
   "source": [
    "add(90,80)"
   ]
  },
  {
   "cell_type": "code",
   "execution_count": 66,
   "id": "4ab134aa",
   "metadata": {},
   "outputs": [],
   "source": [
    "sq=lambda a:a*a"
   ]
  },
  {
   "cell_type": "code",
   "execution_count": 67,
   "id": "f5bee184",
   "metadata": {},
   "outputs": [
    {
     "data": {
      "text/plain": [
       "100"
      ]
     },
     "execution_count": 67,
     "metadata": {},
     "output_type": "execute_result"
    }
   ],
   "source": [
    "sq(10)"
   ]
  },
  {
   "cell_type": "code",
   "execution_count": 68,
   "id": "63c1d8a2",
   "metadata": {},
   "outputs": [
    {
     "data": {
      "text/plain": [
       "4"
      ]
     },
     "execution_count": 68,
     "metadata": {},
     "output_type": "execute_result"
    }
   ],
   "source": [
    "sq(2)"
   ]
  },
  {
   "cell_type": "code",
   "execution_count": 69,
   "id": "6e6fa452",
   "metadata": {},
   "outputs": [],
   "source": [
    "cube=lambda a:a*a*a"
   ]
  },
  {
   "cell_type": "code",
   "execution_count": 70,
   "id": "f33c566d",
   "metadata": {},
   "outputs": [
    {
     "data": {
      "text/plain": [
       "343"
      ]
     },
     "execution_count": 70,
     "metadata": {},
     "output_type": "execute_result"
    }
   ],
   "source": [
    "cube(7)"
   ]
  },
  {
   "cell_type": "code",
   "execution_count": 71,
   "id": "414db3be",
   "metadata": {},
   "outputs": [
    {
     "data": {
      "text/plain": [
       "512"
      ]
     },
     "execution_count": 71,
     "metadata": {},
     "output_type": "execute_result"
    }
   ],
   "source": [
    "cube(8)"
   ]
  },
  {
   "cell_type": "code",
   "execution_count": null,
   "id": "346ee295",
   "metadata": {},
   "outputs": [],
   "source": []
  }
 ],
 "metadata": {
  "kernelspec": {
   "display_name": "Python 3",
   "language": "python",
   "name": "python3"
  },
  "language_info": {
   "codemirror_mode": {
    "name": "ipython",
    "version": 3
   },
   "file_extension": ".py",
   "mimetype": "text/x-python",
   "name": "python",
   "nbconvert_exporter": "python",
   "pygments_lexer": "ipython3",
   "version": "3.13.9"
  }
 },
 "nbformat": 4,
 "nbformat_minor": 5
}
