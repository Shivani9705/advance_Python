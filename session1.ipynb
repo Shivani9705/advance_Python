{
 "cells": [
  {
   "cell_type": "markdown",
   "id": "c6793fc4",
   "metadata": {},
   "source": [
    "# session1"
   ]
  },
  {
   "cell_type": "markdown",
   "id": "4b40b06c",
   "metadata": {},
   "source": [
    "- subheading1\n",
    "- subheading2"
   ]
  },
  {
   "cell_type": "code",
   "execution_count": 1,
   "id": "f0b6aa04",
   "metadata": {},
   "outputs": [
    {
     "name": "stdout",
     "output_type": "stream",
     "text": [
      "Hello world\n"
     ]
    }
   ],
   "source": [
    "print(\"Hello world\")"
   ]
  },
  {
   "cell_type": "code",
   "execution_count": 2,
   "id": "6992d7c5",
   "metadata": {},
   "outputs": [
    {
     "name": "stdout",
     "output_type": "stream",
     "text": [
      "15\n"
     ]
    }
   ],
   "source": [
    "print(5+10)"
   ]
  },
  {
   "cell_type": "code",
   "execution_count": null,
   "id": "7476088f",
   "metadata": {},
   "outputs": [],
   "source": []
  }
 ],
 "metadata": {
  "kernelspec": {
   "display_name": "Python 3",
   "language": "python",
   "name": "python3"
  },
  "language_info": {
   "codemirror_mode": {
    "name": "ipython",
    "version": 3
   },
   "file_extension": ".py",
   "mimetype": "text/x-python",
   "name": "python",
   "nbconvert_exporter": "python",
   "pygments_lexer": "ipython3",
   "version": "3.13.7"
  }
 },
 "nbformat": 4,
 "nbformat_minor": 5
}
