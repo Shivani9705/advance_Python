{
 "cells": [
  {
   "cell_type": "markdown",
   "id": "ce40322c",
   "metadata": {},
   "source": [
    "# Polymorphism\n",
    "- Poly= many\n",
    "- morphism= form "
   ]
  },
  {
   "cell_type": "code",
   "execution_count": 1,
   "id": "b3eea246",
   "metadata": {},
   "outputs": [
    {
     "data": {
      "text/plain": [
       "7"
      ]
     },
     "execution_count": 1,
     "metadata": {},
     "output_type": "execute_result"
    }
   ],
   "source": [
    "len(\"Shivani\")"
   ]
  },
  {
   "cell_type": "code",
   "execution_count": 2,
   "id": "c7143e89",
   "metadata": {},
   "outputs": [
    {
     "data": {
      "text/plain": [
       "12"
      ]
     },
     "execution_count": 2,
     "metadata": {},
     "output_type": "execute_result"
    }
   ],
   "source": [
    "lst=[1,2,3,4,5,6,7,8,11,22,33,44]\n",
    "len(lst)"
   ]
  },
  {
   "cell_type": "code",
   "execution_count": 3,
   "id": "0ee57e83",
   "metadata": {},
   "outputs": [],
   "source": [
    "dict1={\n",
    "    1:\"A\",\n",
    "    2:\"B\",\n",
    "    3:\"C\",\n",
    "    4:\"D\"\n",
    "}"
   ]
  },
  {
   "cell_type": "code",
   "execution_count": 5,
   "id": "be11193d",
   "metadata": {},
   "outputs": [
    {
     "data": {
      "text/plain": [
       "4"
      ]
     },
     "execution_count": 5,
     "metadata": {},
     "output_type": "execute_result"
    }
   ],
   "source": [
    "len(dict1)"
   ]
  },
  {
   "cell_type": "code",
   "execution_count": 6,
   "id": "90326ce1",
   "metadata": {},
   "outputs": [],
   "source": [
    "# Two types in polymorphism \n",
    "# 1)function overloading \n",
    "# 2)function overriding \n",
    "# 3)operator overloading\n",
    "# 4)operator overriding "
   ]
  },
  {
   "cell_type": "code",
   "execution_count": 7,
   "id": "b03d98b8",
   "metadata": {},
   "outputs": [],
   "source": [
    "class India:\n",
    "    def capital(self):\n",
    "        print(\"New delhi is capital of India\")\n",
    "    def language(self):\n",
    "        print(\"Hindi is official language of India\")"
   ]
  },
  {
   "cell_type": "code",
   "execution_count": 8,
   "id": "a1ec2275",
   "metadata": {},
   "outputs": [],
   "source": [
    "class Usa:\n",
    "     def capital(self):\n",
    "        print(\"Washington D.C. is capital of India\")\n",
    "     def language(self):\n",
    "        print(\"English is official language of India\")"
   ]
  },
  {
   "cell_type": "code",
   "execution_count": 9,
   "id": "af2d506a",
   "metadata": {},
   "outputs": [
    {
     "name": "stdout",
     "output_type": "stream",
     "text": [
      "New delhi is capital of India\n",
      "Hindi is official language of India\n"
     ]
    }
   ],
   "source": [
    "# create an object \n",
    "I = India()\n",
    "I.capital()\n",
    "I.language()"
   ]
  },
  {
   "cell_type": "code",
   "execution_count": 10,
   "id": "7f52cf09",
   "metadata": {},
   "outputs": [
    {
     "name": "stdout",
     "output_type": "stream",
     "text": [
      "Washington D.C. is capital of India\n",
      "English is official language of India\n"
     ]
    }
   ],
   "source": [
    "U=Usa()\n",
    "U.capital()\n",
    "U.language()"
   ]
  },
  {
   "cell_type": "code",
   "execution_count": 11,
   "id": "fa439b90",
   "metadata": {},
   "outputs": [
    {
     "name": "stdout",
     "output_type": "stream",
     "text": [
      "New delhi is capital of India\n",
      "Hindi is official language of India\n",
      "Washington D.C. is capital of India\n",
      "English is official language of India\n"
     ]
    }
   ],
   "source": [
    "for i in I,U:\n",
    "    i.capital()\n",
    "    i.language()"
   ]
  },
  {
   "cell_type": "markdown",
   "id": "092d24ad",
   "metadata": {},
   "source": [
    "# Operator Overloading "
   ]
  },
  {
   "cell_type": "code",
   "execution_count": 12,
   "id": "f54e9208",
   "metadata": {},
   "outputs": [],
   "source": [
    "# + = __add__ \n",
    "# - = __sub__\n",
    "# * = __mul__ \n",
    "# / = __div__ \n",
    "\n",
    "# & = __and__ \n",
    "# | = __or__ \n",
    "\n",
    "# > = __gt__ \n",
    "# < = __lt__ \n",
    "# >= = __gte__ \n",
    "# <= = __lte__ \n",
    "# = = __eq__\n"
   ]
  },
  {
   "cell_type": "code",
   "execution_count": 14,
   "id": "6e41324f",
   "metadata": {},
   "outputs": [],
   "source": [
    "class Addition:\n",
    "    def __init__(self,a):\n",
    "        self.a=a \n",
    "    def __add__(self,other):\n",
    "        return self.a+other.a"
   ]
  },
  {
   "cell_type": "code",
   "execution_count": 15,
   "id": "c51023e9",
   "metadata": {},
   "outputs": [],
   "source": [
    "obj1=Addition(10)\n",
    "obj2=Addition(20)"
   ]
  },
  {
   "cell_type": "code",
   "execution_count": 16,
   "id": "05536d34",
   "metadata": {},
   "outputs": [
    {
     "data": {
      "text/plain": [
       "30"
      ]
     },
     "execution_count": 16,
     "metadata": {},
     "output_type": "execute_result"
    }
   ],
   "source": [
    "obj1+obj2"
   ]
  },
  {
   "cell_type": "code",
   "execution_count": 17,
   "id": "b367ddf7",
   "metadata": {},
   "outputs": [],
   "source": [
    "# greater than "
   ]
  },
  {
   "cell_type": "code",
   "execution_count": 18,
   "id": "531036ce",
   "metadata": {},
   "outputs": [],
   "source": [
    "class compare_age:\n",
    "    def __init__(self):\n",
    "        self.name=input(\"Enter your name \")\n",
    "        self.age=int(input(\"Enter your age\"))\n",
    "    def __gt__(self,other):\n",
    "        if self.age>other.age:\n",
    "            return f\"{self.name} is older than {other.name}\"\n",
    "        else: \n",
    "            return f\"{self.name} is younger than {other.name}\""
   ]
  },
  {
   "cell_type": "code",
   "execution_count": 31,
   "id": "e9b2aef4",
   "metadata": {},
   "outputs": [],
   "source": [
    "person1=compare_age()"
   ]
  },
  {
   "cell_type": "code",
   "execution_count": 32,
   "id": "73d98469",
   "metadata": {},
   "outputs": [],
   "source": [
    "person2=compare_age()"
   ]
  },
  {
   "cell_type": "code",
   "execution_count": 33,
   "id": "ce921d1a",
   "metadata": {},
   "outputs": [
    {
     "data": {
      "text/plain": [
       "'shakshi is younger than Ayush'"
      ]
     },
     "execution_count": 33,
     "metadata": {},
     "output_type": "execute_result"
    }
   ],
   "source": [
    "person1 > person2"
   ]
  },
  {
   "cell_type": "code",
   "execution_count": 22,
   "id": "58c451c5",
   "metadata": {},
   "outputs": [],
   "source": [
    "# __ and __ operator "
   ]
  },
  {
   "cell_type": "code",
   "execution_count": 23,
   "id": "733d3e1f",
   "metadata": {},
   "outputs": [],
   "source": [
    "class check_divisibility:\n",
    "    def __init__(self):\n",
    "        self.num=int(input(\"Enter a number\"))\n",
    "    def __and__(self,other):\n",
    "        if self.num%2==0 and other.num%2==0:\n",
    "            return \"Both number is even \"\n",
    "        else:\n",
    "            return \"Both numbers are odd\""
   ]
  },
  {
   "cell_type": "code",
   "execution_count": 28,
   "id": "d697438a",
   "metadata": {},
   "outputs": [],
   "source": [
    "o1=check_divisibility()"
   ]
  },
  {
   "cell_type": "code",
   "execution_count": 29,
   "id": "1586c7d6",
   "metadata": {},
   "outputs": [],
   "source": [
    "o2=check_divisibility()"
   ]
  },
  {
   "cell_type": "code",
   "execution_count": 30,
   "id": "1f9af47b",
   "metadata": {},
   "outputs": [
    {
     "data": {
      "text/plain": [
       "'Both numbers are odd'"
      ]
     },
     "execution_count": 30,
     "metadata": {},
     "output_type": "execute_result"
    }
   ],
   "source": [
    "o1 & o2"
   ]
  },
  {
   "cell_type": "code",
   "execution_count": 34,
   "id": "83adc072",
   "metadata": {},
   "outputs": [],
   "source": [
    "# complex number = combination of real and imaginary number \n",
    "# a+ib \n",
    "# a=10,b=20\n",
    "# a=4,b=10\n",
    "# res=14+i30"
   ]
  },
  {
   "cell_type": "code",
   "execution_count": 35,
   "id": "0ac2af13",
   "metadata": {},
   "outputs": [],
   "source": [
    "class Complex_number:\n",
    "    def __init__(self,a,b):\n",
    "        self.a=a \n",
    "        self.b=b \n",
    "    def __add__(self,other):\n",
    "        return f\"{self.a+other.a}+i{self.b+other.b}\"\n"
   ]
  },
  {
   "cell_type": "code",
   "execution_count": 36,
   "id": "2352e84f",
   "metadata": {},
   "outputs": [],
   "source": [
    "c1=Complex_number(4,7)"
   ]
  },
  {
   "cell_type": "code",
   "execution_count": 37,
   "id": "8575ec07",
   "metadata": {},
   "outputs": [],
   "source": [
    "c2=Complex_number(9,3)"
   ]
  },
  {
   "cell_type": "code",
   "execution_count": 38,
   "id": "a89e7053",
   "metadata": {},
   "outputs": [
    {
     "data": {
      "text/plain": [
       "'13+i10'"
      ]
     },
     "execution_count": 38,
     "metadata": {},
     "output_type": "execute_result"
    }
   ],
   "source": [
    "c1+c2"
   ]
  },
  {
   "cell_type": "code",
   "execution_count": null,
   "id": "704e3586",
   "metadata": {},
   "outputs": [],
   "source": []
  }
 ],
 "metadata": {
  "kernelspec": {
   "display_name": "Python 3",
   "language": "python",
   "name": "python3"
  },
  "language_info": {
   "codemirror_mode": {
    "name": "ipython",
    "version": 3
   },
   "file_extension": ".py",
   "mimetype": "text/x-python",
   "name": "python",
   "nbconvert_exporter": "python",
   "pygments_lexer": "ipython3",
   "version": "3.13.9"
  }
 },
 "nbformat": 4,
 "nbformat_minor": 5
}
